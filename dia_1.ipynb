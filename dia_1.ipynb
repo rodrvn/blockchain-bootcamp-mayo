{
 "cells": [
  {
   "attachments": {},
   "cell_type": "markdown",
   "metadata": {},
   "source": [
    "## Blockchain"
   ]
  },
  {
   "attachments": {},
   "cell_type": "markdown",
   "metadata": {},
   "source": [
    "Es una forma de almacenamiento de informacion por bloques (se almacena en una cadena)\n",
    "- Es seguro\n",
    "- Es pseudoanonimo\n",
    "- timestamp (marca de tiempo)\n",
    "- Es inmutable\n",
    "- Es distribuido por los participantes de los nodos"
   ]
  },
  {
   "attachments": {},
   "cell_type": "markdown",
   "metadata": {},
   "source": [
    "## Bloques"
   ]
  },
  {
   "attachments": {},
   "cell_type": "markdown",
   "metadata": {},
   "source": [
    "Es un conjunto de datos que se van agrupando para formar una cadena"
   ]
  },
  {
   "attachments": {},
   "cell_type": "markdown",
   "metadata": {},
   "source": [
    "## Transacciones\n",
    "Los datos que vamos a almacenar en los bloques"
   ]
  },
  {
   "attachments": {},
   "cell_type": "markdown",
   "metadata": {},
   "source": [
    "## Cadena\n",
    "Es la conexion que se crea de bloque a bloque a traves del hash"
   ]
  },
  {
   "attachments": {},
   "cell_type": "markdown",
   "metadata": {},
   "source": [
    "## Hash\n",
    "Firma digital, se representa en numeros y letras (un total de 64 caracteres)"
   ]
  },
  {
   "attachments": {},
   "cell_type": "markdown",
   "metadata": {},
   "source": [
    "## Nonce\n",
    "Un numero aleatorio de caracteristicas unicas que busca el hash "
   ]
  },
  {
   "cell_type": "code",
   "execution_count": 1,
   "metadata": {},
   "outputs": [],
   "source": [
    "# Creamos un objeto llamado bloque\n",
    "\n",
    "class Bloque:\n",
    "    # Definir los atributos del bloque\n",
    "    def __init__(self, index, transacciones, timestamp):\n",
    "        # Index\n",
    "        self.index = index\n",
    "        # Transacciones\n",
    "        self.transacciones = transacciones\n",
    "        # Timestamp\n",
    "        self.timestamp = timestamp"
   ]
  },
  {
   "cell_type": "code",
   "execution_count": 8,
   "metadata": {},
   "outputs": [
    {
     "name": "stdout",
     "output_type": "stream",
     "text": [
      "2023-05-12 11:12:16.571654\n"
     ]
    }
   ],
   "source": [
    "# importar de ejemplo\n",
    "from datetime import datetime\n",
    "\n",
    "# Para ver la fecha y hora actual\n",
    "tiempo = str(datetime.today())\n",
    "print(tiempo)"
   ]
  },
  {
   "cell_type": "code",
   "execution_count": 14,
   "metadata": {},
   "outputs": [
    {
     "name": "stdout",
     "output_type": "stream",
     "text": [
      "{'index': 1, 'transacciones': 'cualquier cosa', 'timestamp': '2023-05-12 11:30:15.963205'}\n"
     ]
    }
   ],
   "source": [
    "from datetime import datetime\n",
    "\n",
    "# Obtenemos el tiempo actual\n",
    "tiempo = str(datetime.today())\n",
    "\n",
    "transaccion = \"cualquier cosa\"\n",
    "# Instanciamos el objeto Bloque\n",
    "bloque = Bloque(1, transaccion, tiempo)\n",
    "\n",
    "print(bloque.__dict__) # Usamos .__dict__ para ver los atributos y metodos de una clase"
   ]
  },
  {
   "attachments": {},
   "cell_type": "markdown",
   "metadata": {},
   "source": [
    "### Challenge 1 \n",
    "\n",
    "Crear un objeto Bloque que contenga:\n",
    "- Index: un numero que indica el id del bloque\n",
    "- Transaccion: el dato que queremos almacenar (una frase)\n",
    "- Timestamp: el tiempo en el que se crea el bloque\n",
    "\n",
    "\n",
    "- Imprimir el bloque\n",
    "\n",
    "OBS: La transaccion debe ser una lista con 3 datos diferentes.\n"
   ]
  },
  {
   "attachments": {},
   "cell_type": "markdown",
   "metadata": {},
   "source": [
    "## Solucion Maga"
   ]
  },
  {
   "cell_type": "code",
   "execution_count": 16,
   "metadata": {},
   "outputs": [
    {
     "name": "stdout",
     "output_type": "stream",
     "text": [
      "{'index': 1, 'transaccion': ['hola', 'soy', 'Maga'], 'timestamp': '2023-05-12 12:08:41.885989'}\n"
     ]
    }
   ],
   "source": [
    "#primeramente importo la libreria \"datetime\" especificando que es un string(str)\n",
    "from datetime import datetime\n",
    "tiempo = str(datetime.today())\n",
    "\n",
    "#creo la lista que me piden con los tres datos (siempre fuera de mi objeto)\n",
    "lista_transaccion = [\"hola\", \"soy\", \"Maga\"]\n",
    "\n",
    "#creo mi objeto bloque\n",
    "class Bloque:\n",
    "\n",
    "    def __init__(self, index, transaccion, timestamp):\n",
    "        self.index = index\n",
    "        self.transaccion = transaccion\n",
    "        self.timestamp = timestamp\n",
    "\n",
    "bloque = Bloque(1, lista_transaccion, tiempo)\n",
    "print(bloque.__dict__)"
   ]
  },
  {
   "attachments": {},
   "cell_type": "markdown",
   "metadata": {},
   "source": [
    "## Creamos la blockchain"
   ]
  },
  {
   "attachments": {},
   "cell_type": "markdown",
   "metadata": {},
   "source": [
    "- Transacciones pendientes\n",
    "- Cadena: Agrupa los bloques creados en una lista"
   ]
  },
  {
   "cell_type": "code",
   "execution_count": 18,
   "metadata": {},
   "outputs": [],
   "source": [
    "from datetime import datetime\n",
    "\n",
    "tiempo = str(datetime.today())\n",
    "\n",
    "\n",
    "# Creamos la blockchain\n",
    "class Blockchain:\n",
    "    # Atributos iniciales\n",
    "    def __init__(self):\n",
    "        # Tenemos que retener las transacciones antes de que entren a la blockchain\n",
    "        self.transacciones_pendientes = []\n",
    "\n",
    "        # Guarda los bloques dentro de la cadena\n",
    "        self.cadena = []\n",
    "\n",
    "        # Sello temporal de la blockchain\n",
    "        self.tiempo = tiempo"
   ]
  },
  {
   "cell_type": "code",
   "execution_count": 31,
   "metadata": {},
   "outputs": [
    {
     "name": "stdout",
     "output_type": "stream",
     "text": [
      "{'index': 0, 'transaccion': ['Bloque genesis'], 'timestamp': '2023-05-12 14:09:52.192018'}\n",
      "{'index': 1, 'transaccion': ['Rodri a Ana 100BTC', 'Ana a Pao 50BTC'], 'timestamp': '2023-05-12 14:09:52.192018'}\n"
     ]
    }
   ],
   "source": [
    "from datetime import datetime\n",
    "\n",
    "tiempo = str(datetime.today())\n",
    "#creo mi objeto bloque\n",
    "class Bloque:\n",
    "\n",
    "    def __init__(self, index, transaccion, timestamp):\n",
    "        self.index = index\n",
    "        self.transaccion = transaccion\n",
    "        self.timestamp = timestamp\n",
    "\n",
    "# Creamos la blockchain\n",
    "class Blockchain:\n",
    "    # Atributos iniciales\n",
    "    def __init__(self):\n",
    "        # Tenemos que retener las transacciones antes de que entren a la blockchain\n",
    "        self.transacciones_pendientes = []\n",
    "\n",
    "        # Guarda los bloques dentro de la cadena\n",
    "        self.cadena = []\n",
    "\n",
    "        # Sello temporal de la blockchain\n",
    "        self.tiempo = tiempo\n",
    "\n",
    "        # Funcion para crear bloque genesis\n",
    "        self.crear_bloque_genesis()\n",
    "    \n",
    "    # Crear el bloque Genesis\n",
    "    def crear_bloque_genesis(self):\n",
    "        bloque_genesis = Bloque(0, ['Bloque genesis'], self.tiempo)\n",
    "\n",
    "        self.cadena.append(bloque_genesis)\n",
    "\n",
    "    # Creamos una funcion para agregar bloques a la cadena\n",
    "    def agregar_bloque(self, bloque):\n",
    "        self.cadena.append(bloque)\n",
    "        return True\n",
    "    \n",
    "    # Crear un metodo para agregar transacciones\n",
    "    def agregar_transaccion(self, transaccion):\n",
    "        self.transacciones_pendientes.append(transaccion)\n",
    "\n",
    "    # Propiedad para acceder al ultimo bloque\n",
    "    @property\n",
    "    def ultimo_bloque(self):\n",
    "        return self.cadena[-1]\n",
    "    \n",
    "    # Crea el metodo de cerrar bloque\n",
    "    def cerrar_bloque(self):\n",
    "        if not self.transacciones_pendientes:\n",
    "            return False\n",
    "        # Traemos el ultimo bloque\n",
    "        ultimo_bloque = self.ultimo_bloque\n",
    "\n",
    "        # Instanciar un nuevo bloque\n",
    "        nuevo_bloque = Bloque(ultimo_bloque.index + 1, self.transacciones_pendientes, self.tiempo)\n",
    "\n",
    "        # Agregar un bloque nuevo\n",
    "        self.agregar_bloque(nuevo_bloque)\n",
    "\n",
    "        # Volvemos a dejar la lista vacia\n",
    "        self.transacciones_pendientes = []\n",
    "\n",
    "        return nuevo_bloque.index\n",
    "    \n",
    "\n",
    "\n",
    "pengucoin = Blockchain()\n",
    "\n",
    "# Agregamos una transaccion\n",
    "pengucoin.agregar_transaccion('Rodri a Ana 100BTC')\n",
    "pengucoin.agregar_transaccion('Ana a Pao 50BTC')\n",
    "\n",
    "# Cerrar bloque (Minar la criptomoneda)\n",
    "pengucoin.cerrar_bloque()\n",
    "\n",
    "# PAra ver la cadena:\n",
    "\n",
    "for i in range(len(pengucoin.cadena)):\n",
    "    print(pengucoin.cadena[i].__dict__)\n",
    "\n"
   ]
  },
  {
   "cell_type": "code",
   "execution_count": 27,
   "metadata": {},
   "outputs": [
    {
     "name": "stdout",
     "output_type": "stream",
     "text": [
      "4\n"
     ]
    }
   ],
   "source": [
    "palabra = ['h', 'o', 'l', 'a']\n",
    "\n",
    "print(len(palabra))"
   ]
  }
 ],
 "metadata": {
  "kernelspec": {
   "display_name": "Python 3",
   "language": "python",
   "name": "python3"
  },
  "language_info": {
   "codemirror_mode": {
    "name": "ipython",
    "version": 3
   },
   "file_extension": ".py",
   "mimetype": "text/x-python",
   "name": "python",
   "nbconvert_exporter": "python",
   "pygments_lexer": "ipython3",
   "version": "3.11.3"
  },
  "orig_nbformat": 4
 },
 "nbformat": 4,
 "nbformat_minor": 2
}
